{
  "cells": [
    {
      "cell_type": "markdown",
      "metadata": {
        "id": "BZKjSe85l1fX"
      },
      "source": [
        "# 🧠 2D Array Exercises in Python\n",
        "\n",
        "Welcome! In this notebook, you’ll get some hands-on practice with 2D arrays (a.k.a. lists of lists) in Python. These skills are key for building ciphers like the Playfair Cipher.\n",
        "\n",
        "Let’s get started!"
      ]
    },
    {
      "cell_type": "code",
      "execution_count": null,
      "metadata": {
        "id": "GWAci4Hul1fZ"
      },
      "outputs": [],
      "source": [
        "# 🔢 Example: Working with 2D arrays\n",
        "grid = [\n",
        "    [1, 2, 3],\n",
        "    [4, 5, 6],\n",
        "    [7, 8, 9]\n",
        "]\n",
        "\n",
        "print(grid[0][1])  # should print 2\n",
        "grid[1][2] = 99     # changes 6 to 99\n",
        "print(grid)"
      ]
    },
    {
      "cell_type": "markdown",
      "metadata": {
        "id": "HqJ3MaUXl1fa"
      },
      "source": [
        "## 🧪 Exercise 1: Accessing elements\n",
        "\n",
        "Create a 3x3 array of your own numbers. Print the element in the second row, third column. Then change the center value to 42 and print the entire array again."
      ]
    },
    {
      "cell_type": "code",
      "execution_count": null,
      "metadata": {
        "id": "2UdIWrIrl1fa"
      },
      "outputs": [],
      "source": [
        "# Your code here:\n",
        "\n",
        "my_array = [\n",
        "    [0, 0, 0],\n",
        "    [0, 0, 0],\n",
        "    [0, 0, 0]\n",
        "]\n",
        "\n",
        "# TODO: update elements and print the array"
      ]
    },
    {
      "cell_type": "markdown",
      "metadata": {
        "id": "9zTpDVwdl1fa"
      },
      "source": [
        "## 🧪 Exercise 2: 2D Array of Strings\n",
        "\n",
        "Here’s a 2D list with letters. Your task is to:\n",
        "- Print the letter in the third row, fourth column.\n",
        "- Change the letter in the first row, second column to 'Z'.\n",
        "- Print the whole board after the change."
      ]
    },
    {
      "cell_type": "code",
      "execution_count": null,
      "metadata": {
        "id": "K08_LZFbl1fa"
      },
      "outputs": [],
      "source": [
        "board = [\n",
        "    [\"A\", \"B\", \"C\", \"D\", \"E\"],\n",
        "    [\"F\", \"G\", \"H\", \"I\", \"J\"],\n",
        "    [\"K\", \"L\", \"M\", \"N\", \"O\"],\n",
        "    [\"P\", \"Q\", \"R\", \"S\", \"T\"],\n",
        "    [\"U\", \"V\", \"W\", \"X\", \"Y\"]\n",
        "]\n",
        "\n",
        "# Your code here:"
      ]
    },
    {
      "cell_type": "markdown",
      "metadata": {
        "id": "sSLZ3MYFmJNN"
      },
      "source": [
        "## 🧪 Exercise 3: Print one row\n",
        "\n",
        "Write code to print the second row of the array."
      ]
    },
    {
      "cell_type": "code",
      "execution_count": null,
      "metadata": {
        "id": "JQF_GS0fl1fb"
      },
      "outputs": [],
      "source": [
        "# Your code here:"
      ]
    },
    {
      "cell_type": "markdown",
      "metadata": {
        "id": "7AP6-XDpnReT"
      },
      "source": [
        "## 🧪 Exercise 4: Print one column\n",
        "\n",
        "Write code to print the second column of the array. Hint: You'll probably need a loop!"
      ]
    },
    {
      "cell_type": "code",
      "execution_count": null,
      "metadata": {
        "id": "COYIjT45nQR3"
      },
      "outputs": [],
      "source": [
        "# Your code here:"
      ]
    },
    {
      "cell_type": "markdown",
      "metadata": {
        "id": "TtBTAhwSnjyq"
      },
      "source": [
        "## 🧪 Exercise 5: Print the dimensions of the array\n",
        "\n",
        "Write code that will analyze the array and print its dimensions. It should work for any 2D array, not just the one in this exercise."
      ]
    },
    {
      "cell_type": "code",
      "execution_count": null,
      "metadata": {
        "id": "WBfPgOiGnlnI"
      },
      "outputs": [],
      "source": [
        "# Your code here:"
      ]
    },
    {
      "cell_type": "markdown",
      "metadata": {
        "id": "tWxAXlq4l1fa"
      },
      "source": [
        "## 🧪 Exercise 6: Printing the whole board\n",
        "\n",
        "Write code to print each letter in the board one by one using a nested for loop."
      ]
    },
    {
      "cell_type": "code",
      "execution_count": null,
      "metadata": {
        "id": "xQFryPyOmMME"
      },
      "outputs": [],
      "source": [
        "# Your code here:"
      ]
    },
    {
      "cell_type": "markdown",
      "metadata": {
        "id": "OM7VjpB2l1fb"
      },
      "source": [
        "## 💡 Bonus Challenge: Build Your Own Grid\n",
        "\n",
        "Make a 5x5 grid using the alphabet (combine 'I' and 'J' into one cell). You will use this for the Playfair cipher later."
      ]
    },
    {
      "cell_type": "code",
      "execution_count": null,
      "metadata": {
        "id": "27heL6tkl1fb"
      },
      "outputs": [],
      "source": [
        "# Your Playfair square prep here:"
      ]
    }
  ],
  "metadata": {
    "colab": {
      "provenance": []
    },
    "kernelspec": {
      "display_name": "Python 3",
      "language": "python",
      "name": "python3"
    },
    "language_info": {
      "name": "python",
      "version": "3.10"
    }
  },
  "nbformat": 4,
  "nbformat_minor": 0
}